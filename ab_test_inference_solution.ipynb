{
 "cells": [
  {
   "cell_type": "markdown",
   "source": [
    "# 1. Постановка гипотезы\n",
    "\n",
    "Нужно определить, менять ли старую модель машинного обучения standard на новую svm_ensemble_v_1_22.\n",
    "Посколько мы заранее не имеем представления о том, будет ли новая модель МО работать лучше или хуже чем текущий вариант модели, мы выбираем двусторонний статистический тест Two-Tailed Test\n",
    "H0 : p = p0\n",
    "H : p != p0\n",
    "где p и p0 означают коэффициенты конверсии между новой и старой вариантами модели МО соответственно. Так же необходимо выбрать уровень доверия (confidence level). В нашем случае мы решили что это будет 95%. Имея уровень доверия в 95% необходимо рассчитать показатель альфа, который будет равен (1 - 0.95) для нашего теста = 0.05."
   ],
   "metadata": {
    "collapsed": false,
    "pycharm": {
     "name": "#%% md\n"
    }
   }
  },
  {
   "cell_type": "code",
   "execution_count": 34,
   "outputs": [],
   "source": [
    "import numpy as np\n",
    "import pandas as pd\n",
    "import scipy.stats as stats\n",
    "import statsmodels.stats.api as sms\n",
    "import matplotlib as mpl\n",
    "import matplotlib.pyplot as plt\n",
    "import seaborn as sns\n",
    "from math import ceil\n",
    "\n",
    "\n",
    "# Настройки отображения графиков\n",
    "%matplotlib inline\n",
    "\n",
    "plt.style.use('seaborn-whitegrid')\n",
    "font = {'family' : 'Helvetica',\n",
    "        'weight' : 'bold',\n",
    "        'size'   : 14}\n",
    "mpl.rc('font', **font)"
   ],
   "metadata": {
    "collapsed": false,
    "pycharm": {
     "name": "#%%\n"
    }
   }
  },
  {
   "cell_type": "code",
   "execution_count": 35,
   "outputs": [
    {
     "name": "stdout",
     "output_type": "stream",
     "text": [
      "Для каждой группы нам необходимо не меньше  4720  наблюдений\n"
     ]
    }
   ],
   "source": [
    "effect_size = sms.proportion_effectsize(0.13, 0.15)\n",
    "# Cчитаем необходимый размер выборки -> https://www.statsmodels.org/dev/generated/statsmodels.stats.power.NormalIndPower.html?highlight=normalindpower\n",
    "# https://www.statsmodels.org/dev/generated/statsmodels.stats.power.NormalIndPower.solve_power.html#statsmodels.stats.power.NormalIndPower.solve_power\n",
    "required_n = sms.NormalIndPower().solve_power(effect_size, power=0.8, alpha=0.05, ratio=1) # Calculating sample size needed\n",
    "# Округляем до ближайшего целого\n",
    "required_n = ceil(required_n)\n",
    "print(\"Для каждой группы нам необходимо не меньше \",required_n, \" наблюдений\")"
   ],
   "metadata": {
    "collapsed": false,
    "pycharm": {
     "name": "#%%\n"
    }
   }
  },
  {
   "cell_type": "markdown",
   "source": [
    "# 2. Сбор данных и их подготовка"
   ],
   "metadata": {
    "collapsed": false,
    "pycharm": {
     "name": "#%% md\n"
    }
   }
  },
  {
   "cell_type": "code",
   "execution_count": 36,
   "outputs": [
    {
     "data": {
      "text/plain": "                                user_id                   timestamp  \\\n0  9109b0dc-d393-497f-8d63-ba9a25dd16b4  2022-05-21 22:11:48.556739   \n1  2430c3d2-f75b-4b31-8271-51b6a76c2652  2022-05-12 08:01:45.159739   \n2  44788c4e-8dd2-4fad-b986-75e76f4adb64  2022-05-11 16:55:06.154213   \n3  4699a417-506d-41b8-a354-6af6ad576963  2022-05-08 18:28:03.143765   \n4  304b0d28-bcdf-401a-9dff-66230d3ba0bc  2022-05-21 01:52:26.210827   \n5  426f77eb-8739-43b6-999c-aecd14d9f346  2022-05-10 15:20:49.083499   \n6  aa9d93c5-a18f-444a-a522-7e7145835362  2022-05-19 03:26:46.940749   \n7  de214e30-9b8d-44cf-87b1-16917f3e1c89  2022-05-17 01:48:29.539573   \n8  070f398e-e6bf-43e7-88bb-37eff2cb9212  2022-05-04 17:58:08.979471   \n9  9cff0b7e-d42b-4508-9fbe-a4e74f7f29c5  2022-05-15 18:11:06.610965   \n\n       group             variants  converted        location age_group  \\\n0    control             standard          0  United Kingdom     18-25   \n1    control             standard          0  United Kingdom     42-49   \n2  treatment  svm_ensemble_v_1_22          0  United Kingdom     26-33   \n3  treatment  svm_ensemble_v_1_22          0  United Kingdom     42-49   \n4    control             standard          1  United Kingdom     42-49   \n5    control             standard          0  United Kingdom     42-49   \n6  treatment  svm_ensemble_v_1_22          1  United Kingdom     26-33   \n7    control             standard          0  United Kingdom     18-25   \n8  treatment  svm_ensemble_v_1_22          1  United Kingdom     18-25   \n9  treatment  svm_ensemble_v_1_22          1  United Kingdom     26-33   \n\n         user_type  \n0  registered_user  \n1  registered_user  \n2         new_user  \n3  registered_user  \n4  registered_user  \n5  registered_user  \n6  registered_user  \n7  registered_user  \n8         new_user  \n9         new_user  ",
      "text/html": "<div>\n<style scoped>\n    .dataframe tbody tr th:only-of-type {\n        vertical-align: middle;\n    }\n\n    .dataframe tbody tr th {\n        vertical-align: top;\n    }\n\n    .dataframe thead th {\n        text-align: right;\n    }\n</style>\n<table border=\"1\" class=\"dataframe\">\n  <thead>\n    <tr style=\"text-align: right;\">\n      <th></th>\n      <th>user_id</th>\n      <th>timestamp</th>\n      <th>group</th>\n      <th>variants</th>\n      <th>converted</th>\n      <th>location</th>\n      <th>age_group</th>\n      <th>user_type</th>\n    </tr>\n  </thead>\n  <tbody>\n    <tr>\n      <th>0</th>\n      <td>9109b0dc-d393-497f-8d63-ba9a25dd16b4</td>\n      <td>2022-05-21 22:11:48.556739</td>\n      <td>control</td>\n      <td>standard</td>\n      <td>0</td>\n      <td>United Kingdom</td>\n      <td>18-25</td>\n      <td>registered_user</td>\n    </tr>\n    <tr>\n      <th>1</th>\n      <td>2430c3d2-f75b-4b31-8271-51b6a76c2652</td>\n      <td>2022-05-12 08:01:45.159739</td>\n      <td>control</td>\n      <td>standard</td>\n      <td>0</td>\n      <td>United Kingdom</td>\n      <td>42-49</td>\n      <td>registered_user</td>\n    </tr>\n    <tr>\n      <th>2</th>\n      <td>44788c4e-8dd2-4fad-b986-75e76f4adb64</td>\n      <td>2022-05-11 16:55:06.154213</td>\n      <td>treatment</td>\n      <td>svm_ensemble_v_1_22</td>\n      <td>0</td>\n      <td>United Kingdom</td>\n      <td>26-33</td>\n      <td>new_user</td>\n    </tr>\n    <tr>\n      <th>3</th>\n      <td>4699a417-506d-41b8-a354-6af6ad576963</td>\n      <td>2022-05-08 18:28:03.143765</td>\n      <td>treatment</td>\n      <td>svm_ensemble_v_1_22</td>\n      <td>0</td>\n      <td>United Kingdom</td>\n      <td>42-49</td>\n      <td>registered_user</td>\n    </tr>\n    <tr>\n      <th>4</th>\n      <td>304b0d28-bcdf-401a-9dff-66230d3ba0bc</td>\n      <td>2022-05-21 01:52:26.210827</td>\n      <td>control</td>\n      <td>standard</td>\n      <td>1</td>\n      <td>United Kingdom</td>\n      <td>42-49</td>\n      <td>registered_user</td>\n    </tr>\n    <tr>\n      <th>5</th>\n      <td>426f77eb-8739-43b6-999c-aecd14d9f346</td>\n      <td>2022-05-10 15:20:49.083499</td>\n      <td>control</td>\n      <td>standard</td>\n      <td>0</td>\n      <td>United Kingdom</td>\n      <td>42-49</td>\n      <td>registered_user</td>\n    </tr>\n    <tr>\n      <th>6</th>\n      <td>aa9d93c5-a18f-444a-a522-7e7145835362</td>\n      <td>2022-05-19 03:26:46.940749</td>\n      <td>treatment</td>\n      <td>svm_ensemble_v_1_22</td>\n      <td>1</td>\n      <td>United Kingdom</td>\n      <td>26-33</td>\n      <td>registered_user</td>\n    </tr>\n    <tr>\n      <th>7</th>\n      <td>de214e30-9b8d-44cf-87b1-16917f3e1c89</td>\n      <td>2022-05-17 01:48:29.539573</td>\n      <td>control</td>\n      <td>standard</td>\n      <td>0</td>\n      <td>United Kingdom</td>\n      <td>18-25</td>\n      <td>registered_user</td>\n    </tr>\n    <tr>\n      <th>8</th>\n      <td>070f398e-e6bf-43e7-88bb-37eff2cb9212</td>\n      <td>2022-05-04 17:58:08.979471</td>\n      <td>treatment</td>\n      <td>svm_ensemble_v_1_22</td>\n      <td>1</td>\n      <td>United Kingdom</td>\n      <td>18-25</td>\n      <td>new_user</td>\n    </tr>\n    <tr>\n      <th>9</th>\n      <td>9cff0b7e-d42b-4508-9fbe-a4e74f7f29c5</td>\n      <td>2022-05-15 18:11:06.610965</td>\n      <td>treatment</td>\n      <td>svm_ensemble_v_1_22</td>\n      <td>1</td>\n      <td>United Kingdom</td>\n      <td>26-33</td>\n      <td>new_user</td>\n    </tr>\n  </tbody>\n</table>\n</div>"
     },
     "execution_count": 36,
     "metadata": {},
     "output_type": "execute_result"
    }
   ],
   "source": [
    "df = pd.read_csv('./ab_test_inference/ab_test_ensembles.csv')\n",
    "df.head(10)"
   ],
   "metadata": {
    "collapsed": false,
    "pycharm": {
     "name": "#%%\n"
    }
   }
  },
  {
   "cell_type": "code",
   "execution_count": 37,
   "outputs": [
    {
     "data": {
      "text/plain": "variants   standard  svm_ensemble_v_1_22\ngroup                                   \ncontrol      145274                 1928\ntreatment      1965               145311",
      "text/html": "<div>\n<style scoped>\n    .dataframe tbody tr th:only-of-type {\n        vertical-align: middle;\n    }\n\n    .dataframe tbody tr th {\n        vertical-align: top;\n    }\n\n    .dataframe thead th {\n        text-align: right;\n    }\n</style>\n<table border=\"1\" class=\"dataframe\">\n  <thead>\n    <tr style=\"text-align: right;\">\n      <th>variants</th>\n      <th>standard</th>\n      <th>svm_ensemble_v_1_22</th>\n    </tr>\n    <tr>\n      <th>group</th>\n      <th></th>\n      <th></th>\n    </tr>\n  </thead>\n  <tbody>\n    <tr>\n      <th>control</th>\n      <td>145274</td>\n      <td>1928</td>\n    </tr>\n    <tr>\n      <th>treatment</th>\n      <td>1965</td>\n      <td>145311</td>\n    </tr>\n  </tbody>\n</table>\n</div>"
     },
     "execution_count": 37,
     "metadata": {},
     "output_type": "execute_result"
    }
   ],
   "source": [
    "pd.crosstab(df['group'], df['variants'])"
   ],
   "metadata": {
    "collapsed": false,
    "pycharm": {
     "name": "#%%\n"
    }
   }
  },
  {
   "cell_type": "code",
   "execution_count": 38,
   "outputs": [
    {
     "name": "stdout",
     "output_type": "stream",
     "text": [
      "У нас имеются 0 пользователей, которые не уникальны в нашей выборке.\n"
     ]
    }
   ],
   "source": [
    "#все пользователи уникальны\n",
    "sessions = df['user_id'].value_counts(ascending=False)\n",
    "duplicate_users = sessions[sessions > 1].count()\n",
    "print(f\"У нас имеются {duplicate_users} пользователей, которые не уникальны в нашей выборке.\")"
   ],
   "metadata": {
    "collapsed": false,
    "pycharm": {
     "name": "#%%\n"
    }
   }
  },
  {
   "cell_type": "code",
   "execution_count": 39,
   "outputs": [
    {
     "data": {
      "text/plain": "0"
     },
     "execution_count": 39,
     "metadata": {},
     "output_type": "execute_result"
    }
   ],
   "source": [
    "duplicate_users"
   ],
   "metadata": {
    "collapsed": false,
    "pycharm": {
     "name": "#%%\n"
    }
   }
  },
  {
   "cell_type": "code",
   "execution_count": 41,
   "outputs": [
    {
     "data": {
      "text/plain": "                                user_id                   timestamp    group  \\\n0  bcf8452b-3056-4d45-994f-5f286fd9869a  2022-05-18 04:44:18.590293  control   \n1  3c827a98-0868-4ce5-ac31-8195e243af37  2022-05-14 05:22:43.771772  control   \n2  71c72bb9-13d9-4755-b398-b2c5d8b1c4d6  2022-05-23 08:52:53.050325  control   \n3  654ee878-b0c5-4223-b9fb-995ca3d2eaf1  2022-05-07 23:27:09.109877  control   \n4  1e044366-7e86-4d92-bba7-3afaa6f887f8  2022-05-20 14:26:10.133979  control   \n\n   variants  converted        location age_group        user_type  \n0  standard          0  United Kingdom     42-49         new_user  \n1  standard          0  United Kingdom     50-57         new_user  \n2  standard          0  United Kingdom     34-41         new_user  \n3  standard          0  United Kingdom     26-33  registered_user  \n4  standard          0  United Kingdom     42-49         new_user  ",
      "text/html": "<div>\n<style scoped>\n    .dataframe tbody tr th:only-of-type {\n        vertical-align: middle;\n    }\n\n    .dataframe tbody tr th {\n        vertical-align: top;\n    }\n\n    .dataframe thead th {\n        text-align: right;\n    }\n</style>\n<table border=\"1\" class=\"dataframe\">\n  <thead>\n    <tr style=\"text-align: right;\">\n      <th></th>\n      <th>user_id</th>\n      <th>timestamp</th>\n      <th>group</th>\n      <th>variants</th>\n      <th>converted</th>\n      <th>location</th>\n      <th>age_group</th>\n      <th>user_type</th>\n    </tr>\n  </thead>\n  <tbody>\n    <tr>\n      <th>0</th>\n      <td>bcf8452b-3056-4d45-994f-5f286fd9869a</td>\n      <td>2022-05-18 04:44:18.590293</td>\n      <td>control</td>\n      <td>standard</td>\n      <td>0</td>\n      <td>United Kingdom</td>\n      <td>42-49</td>\n      <td>new_user</td>\n    </tr>\n    <tr>\n      <th>1</th>\n      <td>3c827a98-0868-4ce5-ac31-8195e243af37</td>\n      <td>2022-05-14 05:22:43.771772</td>\n      <td>control</td>\n      <td>standard</td>\n      <td>0</td>\n      <td>United Kingdom</td>\n      <td>50-57</td>\n      <td>new_user</td>\n    </tr>\n    <tr>\n      <th>2</th>\n      <td>71c72bb9-13d9-4755-b398-b2c5d8b1c4d6</td>\n      <td>2022-05-23 08:52:53.050325</td>\n      <td>control</td>\n      <td>standard</td>\n      <td>0</td>\n      <td>United Kingdom</td>\n      <td>34-41</td>\n      <td>new_user</td>\n    </tr>\n    <tr>\n      <th>3</th>\n      <td>654ee878-b0c5-4223-b9fb-995ca3d2eaf1</td>\n      <td>2022-05-07 23:27:09.109877</td>\n      <td>control</td>\n      <td>standard</td>\n      <td>0</td>\n      <td>United Kingdom</td>\n      <td>26-33</td>\n      <td>registered_user</td>\n    </tr>\n    <tr>\n      <th>4</th>\n      <td>1e044366-7e86-4d92-bba7-3afaa6f887f8</td>\n      <td>2022-05-20 14:26:10.133979</td>\n      <td>control</td>\n      <td>standard</td>\n      <td>0</td>\n      <td>United Kingdom</td>\n      <td>42-49</td>\n      <td>new_user</td>\n    </tr>\n  </tbody>\n</table>\n</div>"
     },
     "execution_count": 41,
     "metadata": {},
     "output_type": "execute_result"
    }
   ],
   "source": [
    "control_sample = df[df['group'] == 'control'].sample(n = required_n, random_state=42)\n",
    "treatment_sample = df[df['group'] == 'treatment'].sample(n = required_n, random_state=42)\n",
    "\n",
    "# Сформируем общую случайную выборку\n",
    "ab_df = pd.concat([control_sample, treatment_sample], axis=0)\n",
    "ab_df.reset_index(drop=True, inplace=True)\n",
    "ab_df.head()"
   ],
   "metadata": {
    "collapsed": false,
    "pycharm": {
     "name": "#%%\n"
    }
   }
  },
  {
   "cell_type": "code",
   "execution_count": 42,
   "outputs": [
    {
     "data": {
      "text/plain": "control      0.5\ntreatment    0.5\nName: group, dtype: float64"
     },
     "execution_count": 42,
     "metadata": {},
     "output_type": "execute_result"
    }
   ],
   "source": [
    "ab_df.group.value_counts(normalize=True)"
   ],
   "metadata": {
    "collapsed": false,
    "pycharm": {
     "name": "#%%\n"
    }
   }
  },
  {
   "cell_type": "markdown",
   "source": [
    "# 3. Визуализация результатов эксперимента"
   ],
   "metadata": {
    "collapsed": false,
    "pycharm": {
     "name": "#%% md\n"
    }
   }
  },
  {
   "cell_type": "code",
   "execution_count": 44,
   "outputs": [
    {
     "data": {
      "text/plain": "            CR mean    CR std     CR se\ngroup                                  \ncontrol    0.132415  0.338942  0.004933\ntreatment  0.119915  0.324862  0.004729",
      "text/html": "<div>\n<style scoped>\n    .dataframe tbody tr th:only-of-type {\n        vertical-align: middle;\n    }\n\n    .dataframe tbody tr th {\n        vertical-align: top;\n    }\n\n    .dataframe thead th {\n        text-align: right;\n    }\n</style>\n<table border=\"1\" class=\"dataframe\">\n  <thead>\n    <tr style=\"text-align: right;\">\n      <th></th>\n      <th>CR mean</th>\n      <th>CR std</th>\n      <th>CR se</th>\n    </tr>\n    <tr>\n      <th>group</th>\n      <th></th>\n      <th></th>\n      <th></th>\n    </tr>\n  </thead>\n  <tbody>\n    <tr>\n      <th>control</th>\n      <td>0.132415</td>\n      <td>0.338942</td>\n      <td>0.004933</td>\n    </tr>\n    <tr>\n      <th>treatment</th>\n      <td>0.119915</td>\n      <td>0.324862</td>\n      <td>0.004729</td>\n    </tr>\n  </tbody>\n</table>\n</div>"
     },
     "execution_count": 44,
     "metadata": {},
     "output_type": "execute_result"
    }
   ],
   "source": [
    "conversion_rates = ab_df.groupby('group')['converted']\n",
    "\n",
    "# Стандартное отклонение для сформированной выборки\n",
    "std_proportion = lambda x: np.std(x, ddof=0)\n",
    "# Стандартная ошибка для сформированной выборки, формулу стандартной ошибки вы знаете из лекций. Забыли - погуглите.\n",
    "se_proportion = lambda x: stats.sem(x, ddof=0)\n",
    "\n",
    "conversion_rates = conversion_rates.agg([np.mean, std_proportion, se_proportion]).rename(columns={'mean':'CR mean', '<lambda_0>':'CR std', '<lambda_1>':'CR se'})\n",
    "conversion_rates"
   ],
   "metadata": {
    "collapsed": false,
    "pycharm": {
     "name": "#%%\n"
    }
   }
  },
  {
   "cell_type": "markdown",
   "source": [
    "По выборочным статистикам два эксперимента +/- показывают себя одинаково, за исключением выборочного среднего коэффициента конверсии ~13.2% против ~11.9%\n",
    "Выходит, что с моделью svm_ensemble_v_1_22 выборочный средний коэффициент конверсии даже ухудшается."
   ],
   "metadata": {
    "collapsed": false,
    "pycharm": {
     "name": "#%% md\n"
    }
   }
  },
  {
   "cell_type": "code",
   "execution_count": 45,
   "outputs": [
    {
     "data": {
      "text/plain": "<Figure size 576x432 with 1 Axes>",
      "image/png": "[encoded data removed]"
     },
     "metadata": {},
     "output_type": "display_data"
    }
   ],
   "source": [
    "plt.figure(figsize=(8,6));\n",
    "sns.barplot(x=ab_df['group'], y=ab_df['converted'], ci=False);\n",
    "plt.ylim(0, 0.17);\n",
    "plt.title('Conversion rate by experimental samples', pad=20)\n",
    "plt.xlabel('Group', labelpad=15);\n",
    "plt.ylabel('Converted (proportion)', labelpad=15);"
   ],
   "metadata": {
    "collapsed": false,
    "pycharm": {
     "name": "#%%\n"
    }
   }
  },
  {
   "cell_type": "markdown",
   "source": [
    "# 4. Тестирование гипотезы"
   ],
   "metadata": {
    "collapsed": false,
    "pycharm": {
     "name": "#%% md\n"
    }
   }
  },
  {
   "cell_type": "code",
   "execution_count": 46,
   "outputs": [
    {
     "name": "stdout",
     "output_type": "stream",
     "text": [
      "Z-statistic: 1.83\n",
      "p-value: 0.067\n",
      "CI 95% for control group: [0.123, 0.142]\n",
      "CI 95% for treatment group: [0.111, 0.129]\n"
     ]
    }
   ],
   "source": [
    "from statsmodels.stats.proportion import proportions_ztest, proportion_confint\n",
    "\n",
    "control_results = ab_df[ab_df['group'] == 'control']['converted']\n",
    "treatment_results = ab_df[ab_df['group'] == 'treatment']['converted']\n",
    "\n",
    "n_con = control_results.count()\n",
    "n_treat = treatment_results.count()\n",
    "successes = [control_results.sum(), treatment_results.sum()]\n",
    "nobs = [n_con, n_treat]\n",
    "\n",
    "z_stat, pval = proportions_ztest(successes, nobs=nobs)\n",
    "(lower_con, lower_treat), (upper_con, upper_treat) = proportion_confint(successes, nobs=nobs, alpha=0.05)\n",
    "\n",
    "print(f'Z-statistic: {z_stat:.2f}')\n",
    "print(f'p-value: {pval:.3f}')\n",
    "print(f'CI 95% for control group: [{lower_con:.3f}, {upper_con:.3f}]')\n",
    "print(f'CI 95% for treatment group: [{lower_treat:.3f}, {upper_treat:.3f}]')"
   ],
   "metadata": {
    "collapsed": false,
    "pycharm": {
     "name": "#%%\n"
    }
   }
  },
  {
   "cell_type": "markdown",
   "source": [
    "# 5. Интерпретация результатов"
   ],
   "metadata": {
    "collapsed": false,
    "pycharm": {
     "name": "#%% md\n"
    }
   }
  },
  {
   "cell_type": "markdown",
   "source": [
    "Полученное p-значение = 0.067 выше выбранной альфы 0.05, поэтому согласно статистическому выводу, мы не можем отклонить нулевую гипотезу H0, что означает наша новая модель никак статистически значимо не влияет на уровень конверсии и понижение уровня конверсии - это случайность.\n",
    "Доверительный интервал для испытуемой группы [0.11, 0.12] или 11% и 12% соответственно:\n",
    "Он не включает наш baseline\n",
    "Он не достигает нашей цели 15%\n",
    "\n",
    "Ответы на вопросы:\n",
    "1. Лучше оставить старый вариант работы модели"
   ],
   "metadata": {
    "collapsed": false,
    "pycharm": {
     "name": "#%% md\n"
    }
   }
  },
  {
   "cell_type": "markdown",
   "source": [
    "# Проверка гипотезы для пользователей разных типов.\n",
    "# User type: New"
   ],
   "metadata": {
    "collapsed": false,
    "pycharm": {
     "name": "#%% md\n"
    }
   }
  },
  {
   "cell_type": "code",
   "execution_count": 47,
   "outputs": [
    {
     "data": {
      "text/plain": "(147238, 8)"
     },
     "execution_count": 47,
     "metadata": {},
     "output_type": "execute_result"
    }
   ],
   "source": [
    "#отбираем новых пользователей как целевую группу\n",
    "df_new_users=df[df['user_type']=='new_user']\n",
    "df_new_users.shape"
   ],
   "metadata": {
    "collapsed": false,
    "pycharm": {
     "name": "#%%\n"
    }
   }
  },
  {
   "cell_type": "code",
   "execution_count": 48,
   "outputs": [
    {
     "data": {
      "text/plain": "                                user_id                   timestamp    group  \\\n0  36c2884d-9846-4553-a37f-fa36ce50cb45  2022-05-04 09:13:11.837377  control   \n1  58b4787c-15a1-4fc9-b1b6-a3b61e68e272  2022-05-22 14:59:41.304326  control   \n2  032e7ad0-0822-43c3-bb67-a96b6a52cc52  2022-05-02 17:33:23.178911  control   \n3  05676ce3-4498-47f3-a3f4-56fd04785318  2022-05-11 14:59:29.033575  control   \n4  b696f64f-f2a4-4878-9f22-c53aa82e092a  2022-05-22 05:59:01.010862  control   \n\n   variants  converted        location age_group user_type  \n0  standard          0  United Kingdom     34-41  new_user  \n1  standard          1  United Kingdom     18-25  new_user  \n2  standard          0  United Kingdom     50-57  new_user  \n3  standard          0  United Kingdom     34-41  new_user  \n4  standard          0  United Kingdom       58+  new_user  ",
      "text/html": "<div>\n<style scoped>\n    .dataframe tbody tr th:only-of-type {\n        vertical-align: middle;\n    }\n\n    .dataframe tbody tr th {\n        vertical-align: top;\n    }\n\n    .dataframe thead th {\n        text-align: right;\n    }\n</style>\n<table border=\"1\" class=\"dataframe\">\n  <thead>\n    <tr style=\"text-align: right;\">\n      <th></th>\n      <th>user_id</th>\n      <th>timestamp</th>\n      <th>group</th>\n      <th>variants</th>\n      <th>converted</th>\n      <th>location</th>\n      <th>age_group</th>\n      <th>user_type</th>\n    </tr>\n  </thead>\n  <tbody>\n    <tr>\n      <th>0</th>\n      <td>36c2884d-9846-4553-a37f-fa36ce50cb45</td>\n      <td>2022-05-04 09:13:11.837377</td>\n      <td>control</td>\n      <td>standard</td>\n      <td>0</td>\n      <td>United Kingdom</td>\n      <td>34-41</td>\n      <td>new_user</td>\n    </tr>\n    <tr>\n      <th>1</th>\n      <td>58b4787c-15a1-4fc9-b1b6-a3b61e68e272</td>\n      <td>2022-05-22 14:59:41.304326</td>\n      <td>control</td>\n      <td>standard</td>\n      <td>1</td>\n      <td>United Kingdom</td>\n      <td>18-25</td>\n      <td>new_user</td>\n    </tr>\n    <tr>\n      <th>2</th>\n      <td>032e7ad0-0822-43c3-bb67-a96b6a52cc52</td>\n      <td>2022-05-02 17:33:23.178911</td>\n      <td>control</td>\n      <td>standard</td>\n      <td>0</td>\n      <td>United Kingdom</td>\n      <td>50-57</td>\n      <td>new_user</td>\n    </tr>\n    <tr>\n      <th>3</th>\n      <td>05676ce3-4498-47f3-a3f4-56fd04785318</td>\n      <td>2022-05-11 14:59:29.033575</td>\n      <td>control</td>\n      <td>standard</td>\n      <td>0</td>\n      <td>United Kingdom</td>\n      <td>34-41</td>\n      <td>new_user</td>\n    </tr>\n    <tr>\n      <th>4</th>\n      <td>b696f64f-f2a4-4878-9f22-c53aa82e092a</td>\n      <td>2022-05-22 05:59:01.010862</td>\n      <td>control</td>\n      <td>standard</td>\n      <td>0</td>\n      <td>United Kingdom</td>\n      <td>58+</td>\n      <td>new_user</td>\n    </tr>\n  </tbody>\n</table>\n</div>"
     },
     "execution_count": 48,
     "metadata": {},
     "output_type": "execute_result"
    }
   ],
   "source": [
    "#среди них случайным образом выбираем control и treatment погруппы\n",
    "control_sample = df_new_users[df_new_users['group'] == 'control'].sample(n = required_n, random_state=42)\n",
    "treatment_sample = df_new_users[df_new_users['group'] == 'treatment'].sample(n = required_n, random_state=42)\n",
    "\n",
    "# Сформируем общую случайную выборку для новых юзеров\n",
    "ab_df_new_users = pd.concat([control_sample, treatment_sample], axis=0)\n",
    "ab_df_new_users.reset_index(drop=True, inplace=True)\n",
    "ab_df_new_users.head()"
   ],
   "metadata": {
    "collapsed": false,
    "pycharm": {
     "name": "#%%\n"
    }
   }
  },
  {
   "cell_type": "code",
   "execution_count": 52,
   "outputs": [
    {
     "data": {
      "text/plain": "control      0.5\ntreatment    0.5\nName: group, dtype: float64"
     },
     "execution_count": 52,
     "metadata": {},
     "output_type": "execute_result"
    }
   ],
   "source": [
    "ab_df_new_users.group.value_counts(normalize=True)"
   ],
   "metadata": {
    "collapsed": false,
    "pycharm": {
     "name": "#%%\n"
    }
   }
  },
  {
   "cell_type": "code",
   "execution_count": 56,
   "outputs": [
    {
     "data": {
      "text/plain": "            CR mean    CR std     CR se\ngroup                                  \ncontrol    0.122034  0.327325  0.004764\ntreatment  0.127331  0.333343  0.004852",
      "text/html": "<div>\n<style scoped>\n    .dataframe tbody tr th:only-of-type {\n        vertical-align: middle;\n    }\n\n    .dataframe tbody tr th {\n        vertical-align: top;\n    }\n\n    .dataframe thead th {\n        text-align: right;\n    }\n</style>\n<table border=\"1\" class=\"dataframe\">\n  <thead>\n    <tr style=\"text-align: right;\">\n      <th></th>\n      <th>CR mean</th>\n      <th>CR std</th>\n      <th>CR se</th>\n    </tr>\n    <tr>\n      <th>group</th>\n      <th></th>\n      <th></th>\n      <th></th>\n    </tr>\n  </thead>\n  <tbody>\n    <tr>\n      <th>control</th>\n      <td>0.122034</td>\n      <td>0.327325</td>\n      <td>0.004764</td>\n    </tr>\n    <tr>\n      <th>treatment</th>\n      <td>0.127331</td>\n      <td>0.333343</td>\n      <td>0.004852</td>\n    </tr>\n  </tbody>\n</table>\n</div>"
     },
     "execution_count": 56,
     "metadata": {},
     "output_type": "execute_result"
    }
   ],
   "source": [
    "conversion_rates = ab_df_new_users.groupby('group')['converted']\n",
    "# Стандартное отклонение для сформированной выборки\n",
    "std_proportion = lambda x: np.std(x, ddof=0)\n",
    "# Стандартная ошибка для сформированной выборки, формулу стандартной ошибки вы знаете из лекций. Забыли - погуглите.\n",
    "se_proportion = lambda x: stats.sem(x, ddof=0)\n",
    "\n",
    "conversion_rates = conversion_rates.agg([np.mean, std_proportion, se_proportion]).rename(\n",
    "        columns={'mean': 'CR mean', '<lambda_0>': 'CR std', '<lambda_1>': 'CR se'})\n",
    "conversion_rates"
   ],
   "metadata": {
    "collapsed": false,
    "pycharm": {
     "name": "#%%\n"
    }
   }
  },
  {
   "cell_type": "markdown",
   "source": [
    "По выборочным статистикам для новых пользователей два эксперимента +/- показывают себя примерно одинаково."
   ],
   "metadata": {
    "collapsed": false,
    "pycharm": {
     "name": "#%% md\n"
    }
   }
  },
  {
   "cell_type": "code",
   "execution_count": 57,
   "outputs": [
    {
     "data": {
      "text/plain": "<Figure size 576x432 with 1 Axes>",
      "image/png": "[encoded data removed]"
     },
     "metadata": {},
     "output_type": "display_data"
    }
   ],
   "source": [
    "plt.figure(figsize=(8,6));\n",
    "sns.barplot(x=ab_df_new_users['group'], y=ab_df_new_users['converted'], ci=False);\n",
    "plt.ylim(0, 0.17);\n",
    "plt.title('Conversion rate by experimental samples', pad=20)\n",
    "plt.xlabel('Group', labelpad=15);\n",
    "plt.ylabel('Converted (proportion)', labelpad=15);"
   ],
   "metadata": {
    "collapsed": false,
    "pycharm": {
     "name": "#%%\n"
    }
   }
  },
  {
   "cell_type": "code",
   "execution_count": 58,
   "outputs": [
    {
     "name": "stdout",
     "output_type": "stream",
     "text": [
      "Z-statistic: -0.78\n",
      "p-value: 0.436\n",
      "CI 95% for control group: [0.113, 0.131]\n",
      "CI 95% for treatment group: [0.118, 0.137]\n"
     ]
    }
   ],
   "source": [
    "from statsmodels.stats.proportion import proportions_ztest, proportion_confint\n",
    "\n",
    "control_results = ab_df_new_users[ab_df_new_users['group'] == 'control']['converted']\n",
    "treatment_results = ab_df_new_users[ab_df_new_users['group'] == 'treatment']['converted']\n",
    "\n",
    "n_con = control_results.count()\n",
    "n_treat = treatment_results.count()\n",
    "successes = [control_results.sum(), treatment_results.sum()]\n",
    "nobs = [n_con, n_treat]\n",
    "\n",
    "z_stat, pval = proportions_ztest(successes, nobs=nobs)\n",
    "(lower_con, lower_treat), (upper_con, upper_treat) = proportion_confint(successes, nobs=nobs, alpha=0.05)\n",
    "\n",
    "print(f'Z-statistic: {z_stat:.2f}')\n",
    "print(f'p-value: {pval:.3f}')\n",
    "print(f'CI 95% for control group: [{lower_con:.3f}, {upper_con:.3f}]')\n",
    "print(f'CI 95% for treatment group: [{lower_treat:.3f}, {upper_treat:.3f}]')"
   ],
   "metadata": {
    "collapsed": false,
    "pycharm": {
     "name": "#%%\n"
    }
   }
  },
  {
   "cell_type": "markdown",
   "source": [
    "Полученное p-значение = 0.436 значительно выше выбранной альфы 0.05, поэтому согласно статистическому выводу, мы не можем отклонить нулевую гипотезу H0, что означает наша новая модель никак статистически значимо не влияет на уровень конверсии и понижение уровня конверсии - это случайность. Доверительный интервал для испытуемой группы [0.11, 0.13] или 11% и 13% соответственно: Он включает наш baseline, но не достигает нашей цели 15%\n",
    "\n",
    "Ответ: по группе новых пользователей также не стоит менять старую модель."
   ],
   "metadata": {
    "collapsed": false,
    "pycharm": {
     "name": "#%% md\n"
    }
   }
  },
  {
   "cell_type": "markdown",
   "source": [
    "# Проверка гипотезы для старых пользователей\n",
    "# User Type: Registered users"
   ],
   "metadata": {
    "collapsed": false,
    "pycharm": {
     "name": "#%% md\n"
    }
   }
  },
  {
   "cell_type": "code",
   "execution_count": 60,
   "outputs": [
    {
     "data": {
      "text/plain": "(147240, 8)"
     },
     "execution_count": 60,
     "metadata": {},
     "output_type": "execute_result"
    }
   ],
   "source": [
    "#отбираем зарегестрированных пользователей как целевую группу\n",
    "df_reg_users=df[df['user_type']=='registered_user']\n",
    "df_reg_users.shape"
   ],
   "metadata": {
    "collapsed": false,
    "pycharm": {
     "name": "#%%\n"
    }
   }
  },
  {
   "cell_type": "code",
   "execution_count": 61,
   "outputs": [
    {
     "data": {
      "text/plain": "                                user_id                   timestamp    group  \\\n0  3960d256-ab06-4282-b1bb-1f84a0ad27f4  2022-05-09 10:12:05.412405  control   \n1  e6d3713e-1f4a-4cab-8186-de2c5bc3c799  2022-05-19 08:49:58.838873  control   \n2  e4270216-3f3d-4f9e-b615-621709a42625  2022-05-20 20:55:27.488474  control   \n3  32802f77-5b12-4a02-ad78-d310496ebaea  2022-05-06 14:03:09.808327  control   \n4  e3ea432a-2313-47b0-977d-d2947061bdde  2022-05-04 03:42:37.266315  control   \n\n   variants  converted        location age_group        user_type  \n0  standard          1  United Kingdom     34-41  registered_user  \n1  standard          0  United Kingdom     26-33  registered_user  \n2  standard          0  United Kingdom     42-49  registered_user  \n3  standard          0  United Kingdom       58+  registered_user  \n4  standard          0  United Kingdom       58+  registered_user  ",
      "text/html": "<div>\n<style scoped>\n    .dataframe tbody tr th:only-of-type {\n        vertical-align: middle;\n    }\n\n    .dataframe tbody tr th {\n        vertical-align: top;\n    }\n\n    .dataframe thead th {\n        text-align: right;\n    }\n</style>\n<table border=\"1\" class=\"dataframe\">\n  <thead>\n    <tr style=\"text-align: right;\">\n      <th></th>\n      <th>user_id</th>\n      <th>timestamp</th>\n      <th>group</th>\n      <th>variants</th>\n      <th>converted</th>\n      <th>location</th>\n      <th>age_group</th>\n      <th>user_type</th>\n    </tr>\n  </thead>\n  <tbody>\n    <tr>\n      <th>0</th>\n      <td>3960d256-ab06-4282-b1bb-1f84a0ad27f4</td>\n      <td>2022-05-09 10:12:05.412405</td>\n      <td>control</td>\n      <td>standard</td>\n      <td>1</td>\n      <td>United Kingdom</td>\n      <td>34-41</td>\n      <td>registered_user</td>\n    </tr>\n    <tr>\n      <th>1</th>\n      <td>e6d3713e-1f4a-4cab-8186-de2c5bc3c799</td>\n      <td>2022-05-19 08:49:58.838873</td>\n      <td>control</td>\n      <td>standard</td>\n      <td>0</td>\n      <td>United Kingdom</td>\n      <td>26-33</td>\n      <td>registered_user</td>\n    </tr>\n    <tr>\n      <th>2</th>\n      <td>e4270216-3f3d-4f9e-b615-621709a42625</td>\n      <td>2022-05-20 20:55:27.488474</td>\n      <td>control</td>\n      <td>standard</td>\n      <td>0</td>\n      <td>United Kingdom</td>\n      <td>42-49</td>\n      <td>registered_user</td>\n    </tr>\n    <tr>\n      <th>3</th>\n      <td>32802f77-5b12-4a02-ad78-d310496ebaea</td>\n      <td>2022-05-06 14:03:09.808327</td>\n      <td>control</td>\n      <td>standard</td>\n      <td>0</td>\n      <td>United Kingdom</td>\n      <td>58+</td>\n      <td>registered_user</td>\n    </tr>\n    <tr>\n      <th>4</th>\n      <td>e3ea432a-2313-47b0-977d-d2947061bdde</td>\n      <td>2022-05-04 03:42:37.266315</td>\n      <td>control</td>\n      <td>standard</td>\n      <td>0</td>\n      <td>United Kingdom</td>\n      <td>58+</td>\n      <td>registered_user</td>\n    </tr>\n  </tbody>\n</table>\n</div>"
     },
     "execution_count": 61,
     "metadata": {},
     "output_type": "execute_result"
    }
   ],
   "source": [
    "#среди них случайным образом выбираем control и treatment погруппы\n",
    "control_sample = df_reg_users[df_reg_users['group'] == 'control'].sample(n = required_n, random_state=42)\n",
    "treatment_sample = df_reg_users[df_reg_users['group'] == 'treatment'].sample(n = required_n, random_state=42)\n",
    "\n",
    "# Сформируем общую случайную выборку для новых юзеров\n",
    "ab_df_reg_users = pd.concat([control_sample, treatment_sample], axis=0)\n",
    "ab_df_reg_users.reset_index(drop=True, inplace=True)\n",
    "ab_df_reg_users.head()"
   ],
   "metadata": {
    "collapsed": false,
    "pycharm": {
     "name": "#%%\n"
    }
   }
  },
  {
   "cell_type": "code",
   "execution_count": 62,
   "outputs": [
    {
     "data": {
      "text/plain": "            CR mean    CR std     CR se\ngroup                                  \ncontrol    0.121398  0.326590  0.004754\ntreatment  0.119280  0.324117  0.004718",
      "text/html": "<div>\n<style scoped>\n    .dataframe tbody tr th:only-of-type {\n        vertical-align: middle;\n    }\n\n    .dataframe tbody tr th {\n        vertical-align: top;\n    }\n\n    .dataframe thead th {\n        text-align: right;\n    }\n</style>\n<table border=\"1\" class=\"dataframe\">\n  <thead>\n    <tr style=\"text-align: right;\">\n      <th></th>\n      <th>CR mean</th>\n      <th>CR std</th>\n      <th>CR se</th>\n    </tr>\n    <tr>\n      <th>group</th>\n      <th></th>\n      <th></th>\n      <th></th>\n    </tr>\n  </thead>\n  <tbody>\n    <tr>\n      <th>control</th>\n      <td>0.121398</td>\n      <td>0.326590</td>\n      <td>0.004754</td>\n    </tr>\n    <tr>\n      <th>treatment</th>\n      <td>0.119280</td>\n      <td>0.324117</td>\n      <td>0.004718</td>\n    </tr>\n  </tbody>\n</table>\n</div>"
     },
     "execution_count": 62,
     "metadata": {},
     "output_type": "execute_result"
    }
   ],
   "source": [
    "ab_df_reg_users.group.value_counts(normalize=True)\n",
    "conversion_rates = ab_df_reg_users.groupby('group')['converted']\n",
    "# Стандартное отклонение для сформированной выборки\n",
    "std_proportion = lambda x: np.std(x, ddof=0)\n",
    "# Стандартная ошибка для сформированной выборки, формулу стандартной ошибки вы знаете из лекций. Забыли - погуглите.\n",
    "se_proportion = lambda x: stats.sem(x, ddof=0)\n",
    "\n",
    "conversion_rates = conversion_rates.agg([np.mean, std_proportion, se_proportion]).rename(\n",
    "        columns={'mean': 'CR mean', '<lambda_0>': 'CR std', '<lambda_1>': 'CR se'})\n",
    "conversion_rates"
   ],
   "metadata": {
    "collapsed": false,
    "pycharm": {
     "name": "#%%\n"
    }
   }
  },
  {
   "cell_type": "markdown",
   "source": [
    "По выборочным статистикам для новых пользователей два эксперимента +/- показывают себя примерно одинаково."
   ],
   "metadata": {
    "collapsed": false,
    "pycharm": {
     "name": "#%% md\n"
    }
   }
  },
  {
   "cell_type": "code",
   "execution_count": 65,
   "outputs": [
    {
     "data": {
      "text/plain": "<Figure size 576x432 with 1 Axes>",
      "image/png": "[encoded data removed]"
     },
     "metadata": {},
     "output_type": "display_data"
    }
   ],
   "source": [
    "plt.figure(figsize=(8, 6));\n",
    "sns.barplot(x=ab_df_reg_users['group'], y=ab_df_reg_users['converted'], ci=False);\n",
    "plt.ylim(0, 0.17);\n",
    "plt.title('Conversion rate by experimental samples', pad=20)\n",
    "plt.xlabel('Group', labelpad=15);\n",
    "plt.ylabel('Converted (proportion)', labelpad=15);"
   ],
   "metadata": {
    "collapsed": false,
    "pycharm": {
     "name": "#%%\n"
    }
   }
  },
  {
   "cell_type": "code",
   "execution_count": 66,
   "outputs": [
    {
     "name": "stdout",
     "output_type": "stream",
     "text": [
      "Z-statistic: 0.32\n",
      "p-value: 0.752\n",
      "CI 95% for control group: [0.112, 0.131]\n",
      "CI 95% for treatment group: [0.110, 0.129]\n"
     ]
    }
   ],
   "source": [
    "from statsmodels.stats.proportion import proportions_ztest, proportion_confint\n",
    "\n",
    "control_results = ab_df_reg_users[ab_df_reg_users['group'] == 'control']['converted']\n",
    "treatment_results = ab_df_reg_users[ab_df_reg_users['group'] == 'treatment']['converted']\n",
    "\n",
    "n_con = control_results.count()\n",
    "n_treat = treatment_results.count()\n",
    "successes = [control_results.sum(), treatment_results.sum()]\n",
    "nobs = [n_con, n_treat]\n",
    "\n",
    "z_stat, pval = proportions_ztest(successes, nobs=nobs)\n",
    "(lower_con, lower_treat), (upper_con, upper_treat) = proportion_confint(successes, nobs=nobs, alpha=0.05)\n",
    "\n",
    "print(f'Z-statistic: {z_stat:.2f}')\n",
    "print(f'p-value: {pval:.3f}')\n",
    "print(f'CI 95% for control group: [{lower_con:.3f}, {upper_con:.3f}]')\n",
    "print(f'CI 95% for treatment group: [{lower_treat:.3f}, {upper_treat:.3f}]')"
   ],
   "metadata": {
    "collapsed": false,
    "pycharm": {
     "name": "#%%\n"
    }
   }
  },
  {
   "cell_type": "markdown",
   "source": [
    "Полученное p-значение = 0.752 так же значительно выше выбранной альфы 0.05, поэтому согласно статистическому выводу, мы не можем отклонить нулевую гипотезу H0, что означает наша новая модель никак статистически значимо не влияет на уровень конверсии и понижение уровня конверсии - это случайность. Доверительный интервал для испытуемой группы [0.11, 0.12] или 11% и 12% соответственно: Он не включает наш baseline и не достигает нашей цели 15%\n",
    "\n",
    "Ответ: по группе зарегистрированных пользователей также не стоит менять старую модель.\n",
    "\n",
    "2. Итого ни для новых, ни для старых пользователей не стоит менять старую модель."
   ],
   "metadata": {
    "collapsed": false,
    "pycharm": {
     "name": "#%% md\n"
    }
   }
  }
 ],
 "metadata": {
  "kernelspec": {
   "display_name": "Python 3",
   "language": "python",
   "name": "python3"
  },
  "language_info": {
   "codemirror_mode": {
    "name": "ipython",
    "version": 2
   },
   "file_extension": ".py",
   "mimetype": "text/x-python",
   "name": "python",
   "nbconvert_exporter": "python",
   "pygments_lexer": "ipython2",
   "version": "2.7.6"
  }
 },
 "nbformat": 4,
 "nbformat_minor": 0
}